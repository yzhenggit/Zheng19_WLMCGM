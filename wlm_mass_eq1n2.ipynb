{
 "cells": [
  {
   "cell_type": "markdown",
   "metadata": {},
   "source": [
    "This notebook is used to estimate CGM mass (Eq 1, 2), escape velocity, etc. \n",
    "\n",
    "03/28/2019. YZ. "
   ]
  },
  {
   "cell_type": "code",
   "execution_count": 1,
   "metadata": {
    "scrolled": true
   },
   "outputs": [
    {
     "name": "stdout",
     "output_type": "stream",
     "text": [
      "l = 75.8532 deg, b = -73.6258 deg\n",
      "ra = 0.4912 deg, dec = -15.4639 deg\n"
     ]
    }
   ],
   "source": [
    "%matplotlib inline\n",
    "import matplotlib.pyplot as plt\n",
    "import numpy as np\n",
    "from astropy.coordinates import SkyCoord\n",
    "import astropy.units as u\n",
    "import astropy.constants as const\n",
    "import matplotlib as mpl\n",
    "mpl.rcParams['font.family'] = 'stixgeneral'\n",
    "\n",
    "from astroquery.simbad import Simbad\n",
    "gal_simbad = Simbad.query_object('DDO221') # WLM = DDO221\n",
    "wlm_dist = 933 # kpc\n",
    "wlm_coord = SkyCoord(ra=gal_simbad['RA'], dec=gal_simbad['DEC'], \n",
    "                     unit=(u.hourangle, u.degree), distance=wlm_dist*u.kpc)\n",
    "wlm_l = wlm_coord.galactic.l.degree\n",
    "wlm_b = wlm_coord.galactic.b.degree\n",
    "wlm_ra = wlm_coord.icrs.ra.degree\n",
    "wlm_dec = wlm_coord.icrs.dec.degree\n",
    "wlm_rvir = 89.6*u.kpc # see the functions at the end of this notebook \n",
    "print('l = %.4f deg, b = %.4f deg'%(wlm_l, wlm_b))\n",
    "print('ra = %.4f deg, dec = %.4f deg'%(wlm_ra, wlm_dec))"
   ]
  },
  {
   "cell_type": "markdown",
   "metadata": {
    "collapsed": true
   },
   "source": [
    "### CGM Silicon mass estimate, Equation 1"
   ]
  },
  {
   "cell_type": "code",
   "execution_count": 2,
   "metadata": {},
   "outputs": [
    {
     "name": "stdout",
     "output_type": "stream",
     "text": [
      "13.6\n"
     ]
    }
   ],
   "source": [
    "import numpy as np\n",
    "import astropy.units as u\n",
    "import astropy.constants as const\n",
    "\n",
    "# component I \n",
    "nsi2 = 12.97\n",
    "sig2 = 0.07\n",
    "\n",
    "nsi3 = 13.36\n",
    "sig3 = 0.08\n",
    "\n",
    "nsi4 = 12.95\n",
    "nsig4 = 0.07\n",
    "# nsi_total = 10**nsi2 + 10**nsi3 + 10**nsi4\n",
    "\n",
    "nsi_total = 10**13.6\n",
    "print(np.log10(nsi_total))"
   ]
  },
  {
   "cell_type": "code",
   "execution_count": 3,
   "metadata": {},
   "outputs": [
    {
     "name": "stdout",
     "output_type": "stream",
     "text": [
      "2.2516587212730794\n"
     ]
    }
   ],
   "source": [
    "rvir = 89.6*u.kpc\n",
    "cf = 0.4 # from COS dwarfs\n",
    "Msi = (np.pi*(rvir/2.)**2 * (nsi_total/u.cm**2) * const.m_p * 28).to(u.Msun).value * cf\n",
    "print(Msi/1e4)"
   ]
  },
  {
   "cell_type": "markdown",
   "metadata": {},
   "source": [
    "### Use COS-dwarfs's density profile and covering fraction to infer the mass, Equation 2"
   ]
  },
  {
   "cell_type": "code",
   "execution_count": 4,
   "metadata": {},
   "outputs": [],
   "source": [
    "from astropy.table import Table\n",
    "costb = Table.read('tables/bordoloi14.txt', format='ascii')\n",
    "\n",
    "cos_rfrac = costb['R']/costb['R_vir']\n",
    "good = np.ones(len(costb))\n",
    "good[costb['eN']<-100] = 0.\n",
    "\n",
    "# for only detection \n",
    "temp = costb['logNCIV'][good == 1]\n",
    "cosdwarf_logN = np.array([float(i) for i in temp])\n",
    "cosdwarf_d = costb['R'][good == 1]\n",
    "cosdwarf_rvir = costb['R_vir'][good == 1]\n",
    "cosdwarf_rfrac = cosdwarf_d/cosdwarf_rvir"
   ]
  },
  {
   "cell_type": "code",
   "execution_count": 5,
   "metadata": {},
   "outputs": [],
   "source": [
    "# bin the data \n",
    "bin_r = np.array([0.2, 0.4, 0.6])\n",
    "bin_logN = np.zeros(len(bin_r))\n",
    "\n",
    "ind = cosdwarf_rfrac<=bin_r[0]\n",
    "bin_logN[0] = np.log10((10**cosdwarf_logN[ind]).mean())\n",
    "\n",
    "ind = np.all([cosdwarf_rfrac<=bin_r[1], cosdwarf_rfrac>bin_r[0]], axis=0)\n",
    "bin_logN[1] = np.log10((10**cosdwarf_logN[ind]).mean())\n",
    "\n",
    "ind = np.all([cosdwarf_rfrac<=bin_r[2], cosdwarf_rfrac>bin_r[1]], axis=0)\n",
    "bin_logN[2] = np.log10((10**cosdwarf_logN[ind]).mean())"
   ]
  },
  {
   "cell_type": "code",
   "execution_count": 6,
   "metadata": {},
   "outputs": [
    {
     "name": "stdout",
     "output_type": "stream",
     "text": [
      "-1.5747753584933326 14.528092472882387\n"
     ]
    },
    {
     "data": {
      "text/plain": [
       "[<matplotlib.lines.Line2D at 0x11be7a9b0>]"
      ]
     },
     "execution_count": 6,
     "metadata": {},
     "output_type": "execute_result"
    },
    {
     "data": {
      "image/png": "[encoded data removed]",
      "text/plain": [
       "<Figure size 432x288 with 1 Axes>"
      ]
     },
     "metadata": {
      "needs_background": "light"
     },
     "output_type": "display_data"
    }
   ],
   "source": [
    "# let's do a simple fit \n",
    "civ_k, logN0 = np.polyfit(bin_r-0.1, bin_logN, 1)\n",
    "print(civ_k, logN0)\n",
    "\n",
    "plt.scatter(cosdwarf_rfrac, cosdwarf_logN)\n",
    "plt.scatter(bin_r-0.1, bin_logN)\n",
    "\n",
    "xx = np.mgrid[0:1.0:0.1]\n",
    "plt.plot(xx, logN0+civ_k*xx, color='r')"
   ]
  },
  {
   "cell_type": "code",
   "execution_count": 7,
   "metadata": {},
   "outputs": [
    {
     "name": "stdout",
     "output_type": "stream",
     "text": [
      "13.125945380661006\n"
     ]
    }
   ],
   "source": [
    "# use the slop conver to SiIV \n",
    "Nsi_rfrac = 10**13.6\n",
    "rfrac = 0.5\n",
    "# civ_k  = -1.6\n",
    "N0 = Nsi_rfrac/rfrac**civ_k\n",
    "print(np.log10(N0))"
   ]
  },
  {
   "cell_type": "code",
   "execution_count": 8,
   "metadata": {},
   "outputs": [
    {
     "data": {
      "text/plain": [
       "13.6"
      ]
     },
     "execution_count": 8,
     "metadata": {},
     "output_type": "execute_result"
    }
   ],
   "source": [
    "# double check \n",
    "np.log10(N0*(rfrac**civ_k))"
   ]
  },
  {
   "cell_type": "markdown",
   "metadata": {},
   "source": [
    "Now covering fraction "
   ]
  },
  {
   "cell_type": "code",
   "execution_count": 9,
   "metadata": {},
   "outputs": [],
   "source": [
    "from astropy.table import Table\n",
    "costb = Table.read('tables/bordoloi14.txt', format='ascii')\n",
    "\n",
    "cos_rfrac = costb['R']/costb['R_vir']\n",
    "good = np.ones(len(costb))\n",
    "good[costb['eN']<-100] = 0."
   ]
  },
  {
   "cell_type": "code",
   "execution_count": 10,
   "metadata": {},
   "outputs": [
    {
     "name": "stdout",
     "output_type": "stream",
     "text": [
      "0.3953488372093023 17 43\n"
     ]
    }
   ],
   "source": [
    "ind = cos_rfrac <= 1.2\n",
    "temp = good[ind]\n",
    "cf = temp[temp==1.].size/temp.size\n",
    "print(cf, temp[temp==1.].size, temp.size)"
   ]
  },
  {
   "cell_type": "markdown",
   "metadata": {},
   "source": [
    "Covering profile "
   ]
  },
  {
   "cell_type": "code",
   "execution_count": 11,
   "metadata": {},
   "outputs": [
    {
     "name": "stdout",
     "output_type": "stream",
     "text": [
      "[0.875      0.47058824 0.22222222 0.         0.        ]\n"
     ]
    }
   ],
   "source": [
    "rfrac = np.array([0.2, 0.4, 0.6, 0.8, 1.0])\n",
    "cf = np.zeros(rfrac.size)\n",
    "\n",
    "ind = cos_rfrac <= rfrac[0]\n",
    "temp = good[ind]\n",
    "cf[0] = temp[temp==1.].size/temp.size\n",
    "\n",
    "ind = np.all([cos_rfrac <= rfrac[1], cos_rfrac > rfrac[0]], axis=0)\n",
    "temp = good[ind]\n",
    "cf[1] = temp[temp==1.].size/temp.size\n",
    "\n",
    "ind = np.all([cos_rfrac <= rfrac[2], cos_rfrac > rfrac[1]], axis=0)\n",
    "temp = good[ind]\n",
    "cf[2] = temp[temp==1.].size/temp.size\n",
    "\n",
    "ind = np.all([cos_rfrac <= rfrac[3], cos_rfrac > rfrac[2]], axis=0)\n",
    "temp = good[ind]\n",
    "cf[3] = temp[temp==1.].size/temp.size\n",
    "\n",
    "ind = np.all([cos_rfrac <= rfrac[4], cos_rfrac > rfrac[3]], axis=0)\n",
    "temp = good[ind]\n",
    "cf[4] = temp[temp==1.].size/temp.size\n",
    "\n",
    "print(cf)"
   ]
  },
  {
   "cell_type": "code",
   "execution_count": 12,
   "metadata": {},
   "outputs": [],
   "source": [
    "rf_profile = np.mgrid[0.01:1.05:0.2]\n",
    "cf_profile = np.zeros(rf_profile.size)\n",
    "cf_profile[rf_profile<=rfrac[0]] = cf[0]\n",
    "cf_profile[np.all([rf_profile>rfrac[0], rf_profile<=rfrac[1]], axis=0)] = cf[1]\n",
    "cf_profile[np.all([rf_profile>rfrac[1], rf_profile<=rfrac[2]], axis=0)] = cf[2]\n",
    "cf_profile[np.all([rf_profile>rfrac[2], rf_profile<=rfrac[3]], axis=0)] = cf[3]\n",
    "cf_profile[np.all([rf_profile>rfrac[3], rf_profile<=rfrac[4]], axis=0)] = cf[4]"
   ]
  },
  {
   "cell_type": "code",
   "execution_count": 13,
   "metadata": {},
   "outputs": [
    {
     "data": {
      "text/plain": [
       "array([0.875     , 0.47058824, 0.22222222, 0.        , 0.        ,\n",
       "       0.        ])"
      ]
     },
     "execution_count": 13,
     "metadata": {},
     "output_type": "execute_result"
    }
   ],
   "source": [
    "cf_profile"
   ]
  },
  {
   "cell_type": "markdown",
   "metadata": {},
   "source": [
    "Mass calculation for Equation 2"
   ]
  },
  {
   "cell_type": "code",
   "execution_count": 14,
   "metadata": {},
   "outputs": [
    {
     "data": {
      "text/plain": [
       "1.1073311264263326"
      ]
     },
     "execution_count": 14,
     "metadata": {},
     "output_type": "execute_result"
    }
   ],
   "source": [
    "Nr = 10**13.1 * rf_profile**(-1.6) / u.cm**2\n",
    "rvir = 89.6*u.kpc\n",
    "dr = 0.05 * u.kpc\n",
    "Msi = np.sum(2*np.pi*rvir *dr * Nr * cf_profile * const.m_p * 28).to(u.Msun).value \n",
    "Msi / 1e5"
   ]
  },
  {
   "cell_type": "markdown",
   "metadata": {},
   "source": [
    "### SFH of WLM from Weisz+2014a Table 6"
   ]
  },
  {
   "cell_type": "code",
   "execution_count": 15,
   "metadata": {},
   "outputs": [],
   "source": [
    "total_mass_formed = 8.63  # 2.54   4.49   2.38   6.73  \n",
    "sfh_from_tb = '0.32 0.0  0.08 0.05 0.11 0.32 0.0  0.07 0.04 0.1  0.33 0.0  0.07 0.03 0.1  0.36 0.0  0.08 0.04 0.08 0.36 0.0  0.08 0.03 0.08 0.36 0.02 0.09 0.01 0.08 0.39 0.0  0.09 0.03 0.1  0.39 0.0  0.09 0.03 0.08 0.39 0.0  0.15 0.03 0.08 0.39 0.0  0.08 0.02 0.18 0.39 0.01 0.08 0.02 0.19 0.39 0.01 0.09 0.01 0.19 0.39 0.02 0.16 0.01 0.16 0.39 0.02 0.17 0.0  0.17 0.39 0.02 0.18 0.0  0.19 0.49 0.03 0.25 0.01 0.05 0.6  0.01 0.22 0.06 0.06 0.77 0.02 0.06 0.02 0.06 0.86 0.0  0.05 0.01 0.06 0.86 0.0 0.04 0.0  0.07 0.86 0.0 0.04 0.0  0.06 0.86 0.0 0.05 0.0  0.05 0.87 0.0 0.05 0.01 0.03 0.87 0.0  0.05 0.0  0.02 0.87 0.01 0.06 0.0  0.01 0.9  0.01 0.04 0.01 0.02 0.92 0.0 0.04 0.01 0.02 0.92 0.0 0.03 0.0  0.02 0.94 0.0 0.01 0.0  0.02 0.94 0.0 0.02 0.0  0.0  0.96 0.0 0.01 0.0  0.01 0.97 0.0 0.01 0.0  0.0  0.98 0.0 0.01 0.0  0.0  0.98 0.0 0.0  0.0  0.0  0.99 0.0 0.0  0.0  0.0  0.99 0.0 0.0  0.0  0.0  0.99 0.0 0.0  0.0  0.0  0.99 0.0 0.0  0.0  0.0  0.99 0.0 0.0  0.0  0.0  0.99 0.0  0.0  0.0  0.0  1.0  0.0 0.0 0.0  0.0  1.0  0.0 0.0 0.0  0.0  1.0  0.0 0.0 0.0  0.0  1.0  0.0 0.0 0.0  0.0  1.0 0.0 0.0 0.0  0.0  1.0 0.0 0.0 0.0 0.0 1.0 0.0 0.0 0.0 0.0 1.0 0.0 0.0 0.0 0.0 1.0 0.0 0.0 0.0 0.0 1.0 0.0 0.0 0.0 0.0'"
   ]
  },
  {
   "cell_type": "code",
   "execution_count": 16,
   "metadata": {},
   "outputs": [],
   "source": [
    "sfh_str = sfh_from_tb.split()\n",
    "sfh = np.asarray([np.float(i) for i in sfh_str[::5]])\n",
    "sfh_sig_up = np.asarray([np.float(i) for i in sfh_str[2:][::5]])\n",
    "sfh_sig_low = np.asarray([-np.float(i) for i in sfh_str[4:][::5]])"
   ]
  },
  {
   "cell_type": "code",
   "execution_count": 17,
   "metadata": {},
   "outputs": [],
   "source": [
    "logt = np.concatenate([np.mgrid[6.6:8.7:0.1], np.mgrid[8.7:10.1:0.05]])[::-1] # see their paper on p8"
   ]
  },
  {
   "cell_type": "code",
   "execution_count": 18,
   "metadata": {},
   "outputs": [],
   "source": [
    "# and the corresponding redshift for the lookback time \n",
    "from astropy.cosmology import Planck15\n",
    "import scipy as sp\n",
    "\n",
    "zs = np.mgrid[0:10:0.01]\n",
    "lookback_time = Planck15.lookback_time(zs).value\n",
    "z_wlm = np.interp(10**logt/1e9, lookback_time, zs)"
   ]
  },
  {
   "cell_type": "code",
   "execution_count": 19,
   "metadata": {},
   "outputs": [
    {
     "data": {
      "text/plain": [
       "<matplotlib.collections.PolyCollection at 0x151d248780>"
      ]
     },
     "execution_count": 19,
     "metadata": {},
     "output_type": "execute_result"
    },
    {
     "data": {
      "image/png": "[encoded data removed]",
      "text/plain": [
       "<Figure size 288x288 with 1 Axes>"
      ]
     },
     "metadata": {
      "needs_background": "light"
     },
     "output_type": "display_data"
    }
   ],
   "source": [
    "fig = plt.figure(figsize=(4, 4))\n",
    "ax = fig.add_subplot(111)\n",
    "ax.plot(10**logt/1e9, sfh, color='k')\n",
    "ax.fill_between(10**logt/1e9, sfh+sfh_sig_up, sfh+sfh_sig_low, color=plt.cm.Greys(0.7), alpha=0.6)\n",
    "#ax.xlim(12, 0)\n",
    "\n",
    "#tax = ax.twiny()\n",
    "#tax.plot(10**logt/1e9, sfh, color=None)\n",
    "#tt = tax.set_xticks(z_wlm)"
   ]
  },
  {
   "cell_type": "code",
   "execution_count": 20,
   "metadata": {},
   "outputs": [
    {
     "name": "stdout",
     "output_type": "stream",
     "text": [
      "Oxygen ever been synthesized: 5.68e+04 Msun\n"
     ]
    }
   ],
   "source": [
    "# the total amount of oxygen being produced, see Eq. 1 in McQuinn2015\n",
    "\n",
    "Mtot_produced = 8.63*1e6 # by integrating the SFR, from Table 6 in Weisz+2014a\n",
    "P = 0.00658  # the fraction of oxygen newly synthesized per solar mass\n",
    "             # McQuinn+2015 adopted this value from Nomoto 2006\n",
    "Moxy_produced = Mtot_produced*P \n",
    "print('Oxygen ever been synthesized: %.2e Msun'%(Moxy_produced))"
   ]
  },
  {
   "cell_type": "code",
   "execution_count": 21,
   "metadata": {},
   "outputs": [
    {
     "name": "stdout",
     "output_type": "stream",
     "text": [
      "Oxygen locked in stars: 1.46e+04 Msun\n"
     ]
    }
   ],
   "source": [
    "# the oxygen locked in stars, see Eq. 4 \n",
    "log_OH = 8.69-12 # Asplund, 2009\n",
    "x = 0.25\n",
    "y = 0.75\n",
    "mo_to_mp = 16\n",
    "mH = 1\n",
    "mHe = 4\n",
    "log_zstar = log_OH + np.log10(mo_to_mp/(x*mH+y*mHe))\n",
    "\n",
    "# oxygen mass locked in stars\n",
    "R = 0.3 # oxygen recycling fraction \n",
    "Moxy_locked_star = (1-R) * Mtot_produced * 10**log_zstar\n",
    "print('Oxygen locked in stars: %.2e Msun'%(Moxy_locked_star))"
   ]
  },
  {
   "cell_type": "code",
   "execution_count": 22,
   "metadata": {},
   "outputs": [
    {
     "name": "stdout",
     "output_type": "stream",
     "text": [
      "Oxygen in the gas: 6.81e+04 Msun\n"
     ]
    }
   ],
   "source": [
    "# the oxygen in gas in the ISM, see Eq. 2 \n",
    "log_OH_wlm = 7.83-12 # Lee+2005\n",
    "Mhyd_wlm = 6.3e7 # kepley+2007\n",
    "Moxy_gas = 10**log_OH_wlm * mo_to_mp * Mhyd_wlm\n",
    "print('Oxygen in the gas: %.2e Msun'%(Moxy_gas))"
   ]
  },
  {
   "cell_type": "code",
   "execution_count": 23,
   "metadata": {},
   "outputs": [
    {
     "data": {
      "text/plain": [
       "(56785.4, 14566.17278919277, 68149.16391951178)"
      ]
     },
     "execution_count": 23,
     "metadata": {},
     "output_type": "execute_result"
    }
   ],
   "source": [
    "Moxy_produced, Moxy_locked_star, Moxy_gas"
   ]
  },
  {
   "cell_type": "markdown",
   "metadata": {},
   "source": [
    "### Confirm isolation from Cetus"
   ]
  },
  {
   "cell_type": "code",
   "execution_count": 27,
   "metadata": {},
   "outputs": [
    {
     "name": "stdout",
     "output_type": "stream",
     "text": [
      "ra = 6.5458 deg, dec = -11.0444 deg\n",
      "Virial radius(4.6 degree): 59.476645081195734 kpc\n"
     ]
    }
   ],
   "source": [
    "cetus_dist = 755 # kpc \n",
    "cetus_coord = SkyCoord(ra='00h26m11s', dec='−11d02m40s', unit=(u.hourangle, u.deg), distance=cetus_dist*u.kpc)\n",
    "cetus_ra = cetus_coord.icrs.ra.degree\n",
    "cetus_dec = cetus_coord.icrs.dec.degree\n",
    "print('ra = %.4f deg, dec = %.4f deg'%(cetus_ra, cetus_dec))\n",
    "\n",
    "# for cetus\n",
    "cetus_rvir_deg = 4.6 # degree\n",
    "cetus_rvir_coord = SkyCoord(ra=(cetus_ra+cetus_rvir_deg)*u.degree, \n",
    "                      dec=cetus_dec*u.degree, distance=cetus_dist*u.kpc, frame='icrs')\n",
    "print('Virial radius(%.1f degree):'%(cetus_rvir_deg), cetus_coord.separation_3d(cetus_rvir_coord))"
   ]
  },
  {
   "cell_type": "code",
   "execution_count": 28,
   "metadata": {},
   "outputs": [
    {
     "data": {
      "text/latex": [
       "$[208.10287] \\; \\mathrm{kpc}$"
      ],
      "text/plain": [
       "<Distance [208.10286529] kpc>"
      ]
     },
     "execution_count": 28,
     "metadata": {},
     "output_type": "execute_result"
    }
   ],
   "source": [
    "cetus_coord.separation_3d(wlm_coord)"
   ]
  },
  {
   "cell_type": "markdown",
   "metadata": {},
   "source": [
    "### Stellar Mass, Halo Mass, Rvir, R200, and Escape Velocity "
   ]
  },
  {
   "cell_type": "markdown",
   "metadata": {},
   "source": [
    "Testing with the logMstar in Bordoloi+2014. \n",
    "\n",
    "The yztools package can be found on my github: https://github.com/yzhenggit/yzObs"
   ]
  },
  {
   "cell_type": "code",
   "execution_count": 29,
   "metadata": {},
   "outputs": [
    {
     "name": "stdout",
     "output_type": "stream",
     "text": [
      "logMh = 10.43 (2.7e+10) for logMstar = 7.63 (4.3e+07)\n",
      "\n",
      "If use critical density, delta_c=rho/rho_c=200\n",
      "r200 = 63.08 kpc\n",
      "\n",
      "If use critical MATTER density, delta_c=rho/(rho_c*Omega_m)=200\n",
      "r200 = 93.45 kpc\n",
      "\n"
     ]
    },
    {
     "data": {
      "text/plain": [
       "(<Quantity 63.07701166 kpc>, <Quantity 93.45217278 kpc>, 26775810497.60815)"
      ]
     },
     "execution_count": 29,
     "metadata": {},
     "output_type": "execute_result"
    }
   ],
   "source": [
    "from yzObs.calc_r200 import calc_r200, mstar_2_mhalo\n",
    "\n",
    "mstar = 4.3e7 # msun  # Jackson+2007, Leaman+2012 \n",
    "calc_r200(mstar = mstar)"
   ]
  },
  {
   "cell_type": "markdown",
   "metadata": {},
   "source": [
    "Escape velocity "
   ]
  },
  {
   "cell_type": "code",
   "execution_count": 8,
   "metadata": {},
   "outputs": [],
   "source": [
    "import numpy as np\n",
    "import astropy.units as u\n",
    "import astropy.constants as const\n",
    "\n",
    "def cal_Vesp(M_dm_Msun):\n",
    "    G_cgs = const.G.to(u.cm**3/u.g/u.s**2)\n",
    "    mass = M_dm_Msun*const.M_sun.to(u.g)# 5.5e10*const.M_sun.to(u.g)\n",
    "    r = np.mgrid[0.1:300:0.1]*const.kpc.to(u.cm)\n",
    "    vel_arr = np.sqrt(2*G_cgs*mass/r)\n",
    "    \n",
    "    return r, vel_arr\n",
    "\n",
    "def cal_Vcirc_Vesp(M_dm_Msun, r):\n",
    "    G_cgs = const.G.to(u.cm**3/u.g/u.s**2)\n",
    "    mass = M_dm_Msun*const.M_sun.to(u.g)# 5.5e10*const.M_sun.to(u.g)\n",
    "    r = r*const.kpc.to(u.cm)\n",
    "    vcirc = np.sqrt(G_cgs*mass/r)\n",
    "    vesp = np.sqrt(2*G_cgs*mass/r)\n",
    "    return vcirc.to(u.km/u.s), vesp.to(u.km/u.s)\n"
   ]
  },
  {
   "cell_type": "code",
   "execution_count": 32,
   "metadata": {},
   "outputs": [
    {
     "data": {
      "text/plain": [
       "(<Quantity 35.24893206 km / s>, <Quantity 49.84951778 km / s>)"
      ]
     },
     "execution_count": 32,
     "metadata": {},
     "output_type": "execute_result"
    }
   ],
   "source": [
    "cal_Vcirc_Vesp(2.6e10, 90)"
   ]
  },
  {
   "cell_type": "code",
   "execution_count": 33,
   "metadata": {},
   "outputs": [
    {
     "data": {
      "text/latex": [
       "$20.454243 \\; \\mathrm{kpc}$"
      ],
      "text/plain": [
       "<Quantity 20.4542433 kpc>"
      ]
     },
     "execution_count": 33,
     "metadata": {},
     "output_type": "execute_result"
    }
   ],
   "source": [
    "d = 1*u.Gyr * 20 * u.km/u.s\n",
    "d.to(u.kpc)"
   ]
  },
  {
   "cell_type": "code",
   "execution_count": 34,
   "metadata": {},
   "outputs": [],
   "source": [
    "R_vir = 89.6\n",
    "r, vel_arr = cal_Vesp(2.7e10)"
   ]
  },
  {
   "cell_type": "code",
   "execution_count": 35,
   "metadata": {},
   "outputs": [
    {
     "data": {
      "text/plain": [
       "Text(0, 0.5, 'Velocity (km/s)')"
      ]
     },
     "execution_count": 35,
     "metadata": {},
     "output_type": "execute_result"
    },
    {
     "data": {
      "image/png": "[encoded data removed]",
      "text/plain": [
       "<Figure size 360x288 with 1 Axes>"
      ]
     },
     "metadata": {
      "needs_background": "light"
     },
     "output_type": "display_data"
    }
   ],
   "source": [
    "fig = plt.figure(figsize=(5, 4))\n",
    "ax = fig.add_subplot(111)\n",
    "ax.plot(r.to(u.kpc)/R_vir, vel_arr.to(u.km/u.s), color='k')\n",
    "ax.plot(r.to(u.kpc)/R_vir, -vel_arr.to(u.km/u.s), color='k')\n",
    "ax.set_ylim(-200, 200)\n",
    "ax.set_xlim(0, 1)\n",
    "ax.set_yticks([-200, -100, 0, 100, 200])\n",
    "ax.set_yticklabels(['-200', '-100', '0', '100', '200'], fontsize=16)\n",
    "ax.set_xticks([0.1, 0.3, 0.5, 0.7, 0.9])\n",
    "ax.set_xticklabels(['0.1', '0.3', '0.5', '0.7', '0.9'], fontsize=16)\n",
    "ax.grid()\n",
    "ax.minorticks_on()\n",
    "ax.set_title('WLM Escape Velocity Curve', fontsize=20)\n",
    "ax.set_xlabel('r/Rvir (Kpc)', fontsize=20)\n",
    "ax.set_ylabel('Velocity (km/s)', fontsize=20)"
   ]
  },
  {
   "cell_type": "code",
   "execution_count": null,
   "metadata": {},
   "outputs": [],
   "source": []
  }
 ],
 "metadata": {
  "kernelspec": {
   "display_name": "Python 3",
   "language": "python",
   "name": "python3"
  },
  "language_info": {
   "codemirror_mode": {
    "name": "ipython",
    "version": 3
   },
   "file_extension": ".py",
   "mimetype": "text/x-python",
   "name": "python",
   "nbconvert_exporter": "python",
   "pygments_lexer": "ipython3",
   "version": "3.6.8"
  }
 },
 "nbformat": 4,
 "nbformat_minor": 2
}
