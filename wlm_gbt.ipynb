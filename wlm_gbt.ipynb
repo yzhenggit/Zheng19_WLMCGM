{
 "cells": [
  {
   "cell_type": "markdown",
   "metadata": {},
   "source": [
    "This notebook is to do Gaussian fit for each detected HI line, calculate NHI for Component v-220 and v-150 using the pointing toward PHL2525, and plot all the GBT spectra together. 03/28/2019, YZ. "
   ]
  },
  {
   "cell_type": "code",
   "execution_count": 1,
   "metadata": {
    "scrolled": true
   },
   "outputs": [
    {
     "name": "stdout",
     "output_type": "stream",
     "text": [
      "l = 75.8532 deg, b = -73.6258 deg\n",
      "ra = 0.4912 deg, dec = -15.4639 deg\n"
     ]
    }
   ],
   "source": [
    "%matplotlib inline\n",
    "import matplotlib.pyplot as plt\n",
    "import numpy as np\n",
    "from astropy.coordinates import SkyCoord\n",
    "import astropy.units as u\n",
    "import astropy.constants as const\n",
    "from astropy.table import Table \n",
    "import matplotlib as mpl\n",
    "mpl.rcParams['font.family'] = 'stixgeneral'\n",
    "\n",
    "from astroquery.simbad import Simbad\n",
    "gal_simbad = Simbad.query_object('DDO221') # WLM = DDO221\n",
    "coord = SkyCoord(ra=gal_simbad['RA'], dec=gal_simbad['DEC'], unit=(u.hourangle, u.degree))\n",
    "wlm_l = coord.galactic.l.degree\n",
    "wlm_b = coord.galactic.b.degree\n",
    "wlm_ra = coord.icrs.ra.degree\n",
    "wlm_dec = coord.icrs.dec.degree\n",
    "print('l = %.4f deg, b = %.4f deg'%(wlm_l, wlm_b))\n",
    "print('ra = %.4f deg, dec = %.4f deg'%(wlm_ra, wlm_dec))"
   ]
  },
  {
   "cell_type": "code",
   "execution_count": 2,
   "metadata": {},
   "outputs": [
    {
     "name": "stdout",
     "output_type": "stream",
     "text": [
      "[0.10173042] [-12.76327889]\n"
     ]
    }
   ],
   "source": [
    "qso_simbad = Simbad.query_object('PHL2525')\n",
    "coord = SkyCoord(ra=qso_simbad['RA'], dec=qso_simbad['DEC'], unit=(u.hourangle, u.degree))\n",
    "qso_ra = coord.icrs.ra.deg\n",
    "qso_dec = coord.icrs.dec.deg\n",
    "print(qso_ra, qso_dec)"
   ]
  },
  {
   "cell_type": "markdown",
   "metadata": {},
   "source": [
    "### The GBT spectra "
   ]
  },
  {
   "cell_type": "code",
   "execution_count": 3,
   "metadata": {},
   "outputs": [],
   "source": [
    "files = ['data/GBT/GBT_PHL2525_1.txt', 'data/GBT/GBT_PHL2525_2.txt', 'data/GBT/GBT_PHL2525_3.txt', \n",
    "         'data/GBT/GBT_PHL2525_4.txt', 'data/GBT/GBT_PHL2525_5.txt', 'data/GBT/GBT_PHL2525_6.txt', \n",
    "         'data/GBT/GBT_PHL2525_7.txt', 'data/GBT/GBT_PHL2525_8.txt', 'data/GBT/GBT_PHL2525_9.txt',\n",
    "         'data/GBT/GBT_PHL2525_10.txt', 'data/GBT/GBT_PHL2525_11.txt', 'data/GBT/GBT_PHL2525_12.txt',\n",
    "         'data/GBT/GBT_PHL2525_13.txt']"
   ]
  },
  {
   "cell_type": "code",
   "execution_count": 8,
   "metadata": {},
   "outputs": [
    {
     "name": "stdout",
     "output_type": "stream",
     "text": [
      "data/GBT/GBT_PHL2525_1.txt 0.10142350050251854 -12.763224252792869 80.6827 -71.31694\n",
      "data/GBT/GBT_PHL2525_2.txt 0.9250469747613227 -12.168981901666807 83.80458 -71.31687\n",
      "data/GBT/GBT_PHL2525_3.txt 0.5097762188118949 -12.461210263471582 82.24366 -71.31689\n",
      "data/GBT/GBT_PHL2525_4.txt 359.7002354471592 -13.074776257382412 79.12187 -71.31698\n",
      "data/GBT/GBT_PHL2525_5.txt 359.30618569079826 -13.39568701784762 77.56058 -71.31686\n",
      "data/GBT/GBT_PHL2525_6.txt 359.47431524308564 -11.972841921293012 80.68285 -70.31698\n",
      "data/GBT/GBT_PHL2525_7.txt 359.78738075014564 -12.368198170261328 80.68277 -70.81694\n",
      "data/GBT/GBT_PHL2525_8.txt 0.4164732035704177 -13.15784668786537 80.68275 -71.81693\n",
      "data/GBT/GBT_PHL2525_9.txt 0.7323535761827912 -13.552072098702762 80.68236 -72.3168\n",
      "data/GBT/GBT_PHL2525_10.txt 0.8248137851897216 -12.855782646845205 82.2836 -71.8169\n",
      "data/GBT/GBT_PHL2525_11.txt 359.38524829567575 -12.678590458675233 79.15974 -70.81588\n",
      "data/GBT/GBT_PHL2525_12.txt 0.015050135410277164 -13.470176842198638 79.07995 -71.81703\n",
      "data/GBT/GBT_PHL2525_13.txt 0.19459332365947443 -12.065924316790326 82.20372 -70.81595\n"
     ]
    }
   ],
   "source": [
    "# get coordinates and spectrum from each file  \n",
    "all_ra = np.zeros(len(files))\n",
    "all_dec = np.zeros(len(files))\n",
    "all_vlsr = []\n",
    "all_flux = []\n",
    "for i, ifile in enumerate(files):\n",
    "    # coordinates \n",
    "    f = open(ifile)\n",
    "    for line in f:\n",
    "        if line[0] == 'c': break\n",
    "    f.close()\n",
    "\n",
    "    aline = line.replace('\\n', '')\n",
    "    glon = np.float(aline.split(' ')[-2])\n",
    "    glat = np.float(aline.split(' ')[-1])\n",
    "\n",
    "    coord = SkyCoord(glon, glat, frame='galactic', unit=(u.deg, u.deg))\n",
    "    all_ra[i] = coord.icrs.ra.deg\n",
    "    all_dec[i] = coord.icrs.dec.deg\n",
    "    \n",
    "    # spectrum \n",
    "    tb = Table.read(ifile, format='ascii', data_start=4)\n",
    "    all_vlsr.append(tb['col1'])\n",
    "    all_flux.append(tb['col2'])\n",
    "    print(ifile, all_ra[i], all_dec[i], coord.galactic.l.degree, coord.galactic.b.degree)\n",
    "    \n",
    "all_ra[all_ra>10] = all_ra[all_ra>10]-360"
   ]
  },
  {
   "cell_type": "markdown",
   "metadata": {},
   "source": [
    "Fit each GBT detection separately "
   ]
  },
  {
   "cell_type": "code",
   "execution_count": 7,
   "metadata": {},
   "outputs": [],
   "source": [
    "def gaussian(v, a, v0, sigma):\n",
    "    return a*np.exp(-(v-v0)**2/sigma**2)\n",
    "from scipy.optimize import curve_fit"
   ]
  },
  {
   "cell_type": "code",
   "execution_count": 8,
   "metadata": {},
   "outputs": [],
   "source": [
    "all_vmin, all_vmax = -360, -90"
   ]
  },
  {
   "cell_type": "code",
   "execution_count": 9,
   "metadata": {},
   "outputs": [
    {
     "name": "stdout",
     "output_type": "stream",
     "text": [
      "pointing 4\n",
      "v     : -204.70+/-0.43 km/s\n",
      "sig_v : 15.46+/-0.60 km/s\n",
      "logNHI: 19.02+/-0.01\n"
     ]
    },
    {
     "data": {
      "text/plain": [
       "[<matplotlib.lines.Line2D at 0x11467b7f0>]"
      ]
     },
     "execution_count": 9,
     "metadata": {},
     "output_type": "execute_result"
    },
    {
     "data": {
      "image/png": "[encoded data removed]",
      "text/plain": [
       "<Figure size 216x144 with 1 Axes>"
      ]
     },
     "metadata": {
      "needs_background": "light"
     },
     "output_type": "display_data"
    }
   ],
   "source": [
    "i = 3 # pointing 4 \n",
    "ind = np.all([all_vlsr[i]>all_vmin, all_vlsr[i]<all_vmax], axis=0)\n",
    "spec_x, spec_y = all_vlsr[i][ind], all_flux[i][ind]\n",
    "del_v = np.mean(spec_x[1:]-spec_x[:-1])\n",
    "    \n",
    "pp_3, pcov_3 = curve_fit(gaussian, spec_x, spec_y, p0=[0.2, -200, 15])\n",
    "perr_3 = np.sqrt(np.diag(pcov_3))\n",
    "yfit_3 = gaussian(spec_x, *pp_3)\n",
    "\n",
    "\n",
    "fwhm = pp_3[2]*2.355\n",
    "ind_v = np.all([spec_x>all_vmin, spec_x<all_vmin+fwhm*2], axis=0)\n",
    "sig_nhi_3 = np.sum(spec_y[ind_v]*1.823e18*del_v)\n",
    "nhi_3 = np.sum(spec_y*1.823e18*del_v)\n",
    "\n",
    "print('pointing %s'%(i+1))\n",
    "print('v     : %.2f+/-%.2f km/s'%(pp_3[1], perr_3[1]))\n",
    "print('sig_v : %.2f+/-%.2f km/s'%(pp_3[2], perr_3[2]))\n",
    "print('logNHI: %.2f+/-%.2f'%(np.log10(nhi_3), sig_nhi_3/nhi_3/np.log(10)))\n",
    "      \n",
    "plt.figure(figsize=(3,2))\n",
    "plt.step(spec_x, spec_y)\n",
    "plt.step(spec_x, yfit_3)"
   ]
  },
  {
   "cell_type": "code",
   "execution_count": 10,
   "metadata": {},
   "outputs": [
    {
     "name": "stdout",
     "output_type": "stream",
     "text": [
      "pointing 5\n",
      "v     : -225.49+/-0.88 km/s\n",
      "sig_v : 17.34+/-1.39 km/s\n",
      "v     : -189.35+/-3.86 km/s\n",
      "sig_v : 29.19+/-4.69 km/s\n",
      "logNHI: 18.83+/--0.00\n"
     ]
    },
    {
     "data": {
      "text/plain": [
       "[<matplotlib.lines.Line2D at 0x11454bba8>]"
      ]
     },
     "execution_count": 10,
     "metadata": {},
     "output_type": "execute_result"
    },
    {
     "data": {
      "image/png": "[encoded data removed]",
      "text/plain": [
       "<Figure size 216x144 with 1 Axes>"
      ]
     },
     "metadata": {
      "needs_background": "light"
     },
     "output_type": "display_data"
    }
   ],
   "source": [
    "i = 4 # pointing 5 \n",
    "ind = np.all([all_vlsr[i]>all_vmin, all_vlsr[i]<all_vmax], axis=0)\n",
    "spec_x, spec_y = all_vlsr[i][ind], all_flux[i][ind]\n",
    "del_v = np.mean(spec_x[1:]-spec_x[:-1])\n",
    "    \n",
    "inda = spec_x<-210\n",
    "pp_4a, pcov_4a = curve_fit(gaussian, spec_x[inda], spec_y[inda], p0=[0.1, -230, 15])\n",
    "perr_4a = np.sqrt(np.diag(pcov_4a))\n",
    "yfit_4a = gaussian(spec_x, *pp_4a)\n",
    "\n",
    "indb = spec_x>-200\n",
    "pp_4b, pcov_4b = curve_fit(gaussian, spec_x[indb], spec_y[indb], p0=[0.08, -190, 10])\n",
    "perr_4b = np.sqrt(np.diag(pcov_4b))\n",
    "yfit_4b = gaussian(spec_x, *pp_4b)\n",
    "\n",
    "fwhm = 40\n",
    "ind_v = np.all([spec_x>all_vmin, spec_x<all_vmin+fwhm*2], axis=0)\n",
    "sig_nhi_4 = np.sum(spec_y[ind_v]*1.823e18*del_v)\n",
    "nhi_4 = np.sum(spec_y*1.823e18*del_v)\n",
    "\n",
    "print('pointing %s'%(i+1))\n",
    "print('v     : %.2f+/-%.2f km/s'%(pp_4a[1], perr_4a[1]))\n",
    "print('sig_v : %.2f+/-%.2f km/s'%(pp_4a[2], perr_4a[2]))\n",
    "print('v     : %.2f+/-%.2f km/s'%(pp_4b[1], perr_4b[1]))\n",
    "print('sig_v : %.2f+/-%.2f km/s'%(pp_4b[2], perr_4b[2]))\n",
    "print('logNHI: %.2f+/-%.2f'%(np.log10(nhi_4), sig_nhi_4/nhi_4/np.log(10)))\n",
    "      \n",
    "plt.figure(figsize=(3,2))\n",
    "plt.step(spec_x, spec_y)\n",
    "plt.step(spec_x, yfit_4a)\n",
    "plt.step(spec_x, yfit_4b)"
   ]
  },
  {
   "cell_type": "code",
   "execution_count": 11,
   "metadata": {},
   "outputs": [
    {
     "name": "stdout",
     "output_type": "stream",
     "text": [
      "pointing 6\n",
      "v     : -189.79+/-0.38 km/s\n",
      "sig_v : 15.53+/-0.54 km/s\n",
      "logNHI: 18.94+/--0.00\n"
     ]
    },
    {
     "data": {
      "text/plain": [
       "[<matplotlib.lines.Line2D at 0x1147c16d8>]"
      ]
     },
     "execution_count": 11,
     "metadata": {},
     "output_type": "execute_result"
    },
    {
     "data": {
      "image/png": "[encoded data removed]",
      "text/plain": [
       "<Figure size 216x144 with 1 Axes>"
      ]
     },
     "metadata": {
      "needs_background": "light"
     },
     "output_type": "display_data"
    }
   ],
   "source": [
    "i = 5 # pointing 6 \n",
    "ind = np.all([all_vlsr[i]>all_vmin, all_vlsr[i]<all_vmax], axis=0)\n",
    "spec_x, spec_y = all_vlsr[i][ind], all_flux[i][ind]\n",
    "del_v = np.mean(spec_x[1:]-spec_x[:-1])\n",
    "    \n",
    "pp_5, pcov_5 = curve_fit(gaussian, spec_x, spec_y, p0=[0.16, -190, 15])\n",
    "perr_5 = np.sqrt(np.diag(pcov_5))\n",
    "yfit_5 = gaussian(spec_x, *pp_5)\n",
    "\n",
    "\n",
    "fwhm = pp_5[2]*2.355\n",
    "ind_v = np.all([spec_x>all_vmin, spec_x<all_vmin+fwhm*2], axis=0)\n",
    "sig_nhi_5 = np.sum(spec_y[ind_v]*1.823e18*del_v)\n",
    "nhi_5 = np.sum(spec_y*1.823e18*del_v)\n",
    "\n",
    "print('pointing %s'%(i+1))\n",
    "print('v     : %.2f+/-%.2f km/s'%(pp_5[1], perr_5[1]))\n",
    "print('sig_v : %.2f+/-%.2f km/s'%(pp_5[2], perr_5[2]))\n",
    "print('logNHI: %.2f+/-%.2f'%(np.log10(nhi_5), sig_nhi_5/nhi_5/np.log(10)))\n",
    "      \n",
    "plt.figure(figsize=(3,2))\n",
    "plt.step(spec_x, spec_y)\n",
    "plt.step(spec_x, yfit_5)"
   ]
  },
  {
   "cell_type": "code",
   "execution_count": 12,
   "metadata": {},
   "outputs": [
    {
     "name": "stdout",
     "output_type": "stream",
     "text": [
      "pointing 8\n",
      "v     : -250.97+/-0.23 km/s\n",
      "sig_v : 12.70+/-0.33 km/s\n",
      "logNHI: 19.14+/-0.01\n"
     ]
    },
    {
     "data": {
      "text/plain": [
       "[<matplotlib.lines.Line2D at 0x11486d3c8>]"
      ]
     },
     "execution_count": 12,
     "metadata": {},
     "output_type": "execute_result"
    },
    {
     "data": {
      "image/png": "[encoded data removed]",
      "text/plain": [
       "<Figure size 216x144 with 1 Axes>"
      ]
     },
     "metadata": {
      "needs_background": "light"
     },
     "output_type": "display_data"
    }
   ],
   "source": [
    "i = 7 # pointing 8\n",
    "ind = np.all([all_vlsr[i]>all_vmin, all_vlsr[i]<all_vmax], axis=0)\n",
    "spec_x, spec_y = all_vlsr[i][ind], all_flux[i][ind]\n",
    "del_v = np.mean(spec_x[1:]-spec_x[:-1])\n",
    "    \n",
    "pp_7, pcov_7 = curve_fit(gaussian, spec_x, spec_y, p0=[0.36, -250, 15])\n",
    "perr_7 = np.sqrt(np.diag(pcov_7))\n",
    "yfit_7 = gaussian(spec_x, *pp_7)\n",
    "\n",
    "\n",
    "fwhm = pp_7[2]*2.355\n",
    "ind_v = np.all([spec_x>all_vmin, spec_x<all_vmin+fwhm*2], axis=0)\n",
    "sig_nhi_7 = np.sum(spec_y[ind_v]*1.823e18*del_v)\n",
    "nhi_7 = np.sum(spec_y*1.823e18*del_v)\n",
    "\n",
    "print('pointing %s'%(i+1))\n",
    "print('v     : %.2f+/-%.2f km/s'%(pp_7[1], perr_7[1]))\n",
    "print('sig_v : %.2f+/-%.2f km/s'%(pp_7[2], perr_7[2]))\n",
    "print('logNHI: %.2f+/-%.2f'%(np.log10(nhi_7), sig_nhi_7/nhi_7/np.log(10)))\n",
    "      \n",
    "plt.figure(figsize=(3,2))\n",
    "plt.step(spec_x, spec_y)\n",
    "plt.step(spec_x, yfit_7)"
   ]
  },
  {
   "cell_type": "code",
   "execution_count": 13,
   "metadata": {},
   "outputs": [
    {
     "name": "stdout",
     "output_type": "stream",
     "text": [
      "pointing 10\n",
      "v     : -258.32+/-0.42 km/s\n",
      "sig_v : 16.31+/-0.59 km/s\n",
      "logNHI: 18.96+/--0.00\n"
     ]
    },
    {
     "data": {
      "text/plain": [
       "[<matplotlib.lines.Line2D at 0x114728e48>]"
      ]
     },
     "execution_count": 13,
     "metadata": {},
     "output_type": "execute_result"
    },
    {
     "data": {
      "image/png": "[encoded data removed]",
      "text/plain": [
       "<Figure size 216x144 with 1 Axes>"
      ]
     },
     "metadata": {
      "needs_background": "light"
     },
     "output_type": "display_data"
    }
   ],
   "source": [
    "i = 9 # pointing 10\n",
    "ind = np.all([all_vlsr[i]>all_vmin, all_vlsr[i]<all_vmax], axis=0)\n",
    "spec_x, spec_y = all_vlsr[i][ind], all_flux[i][ind]\n",
    "del_v = np.mean(spec_x[1:]-spec_x[:-1])\n",
    "    \n",
    "pp_9, pcov_9 = curve_fit(gaussian, spec_x, spec_y, p0=[0.28, -260, 15])\n",
    "perr_9 = np.sqrt(np.diag(pcov_9))\n",
    "yfit_9 = gaussian(spec_x, *pp_9)\n",
    "\n",
    "\n",
    "fwhm = pp_9[2]*2.355\n",
    "ind_v = np.all([spec_x>all_vmin, spec_x<all_vmin+fwhm*2], axis=0)\n",
    "sig_nhi_9 = np.sum(spec_y[ind_v]*1.823e18*del_v)\n",
    "nhi_9 = np.sum(spec_y*1.823e18*del_v)\n",
    "\n",
    "print('pointing %s'%(i+1))\n",
    "print('v     : %.2f+/-%.2f km/s'%(pp_9[1], perr_9[1]))\n",
    "print('sig_v : %.2f+/-%.2f km/s'%(pp_9[2], perr_9[2]))\n",
    "print('logNHI: %.2f+/-%.2f'%(np.log10(nhi_9), sig_nhi_9/nhi_9/np.log(10)))\n",
    "      \n",
    "plt.figure(figsize=(3,2))\n",
    "plt.step(spec_x, spec_y)\n",
    "plt.step(spec_x, yfit_9)"
   ]
  },
  {
   "cell_type": "code",
   "execution_count": 14,
   "metadata": {},
   "outputs": [
    {
     "name": "stdout",
     "output_type": "stream",
     "text": [
      "pointing 11\n",
      "v     : -203.25+/-0.51 km/s\n",
      "sig_v : 20.52+/-0.72 km/s\n",
      "logNHI: 19.02+/-0.01\n"
     ]
    },
    {
     "data": {
      "text/plain": [
       "[<matplotlib.lines.Line2D at 0x1147f1be0>]"
      ]
     },
     "execution_count": 14,
     "metadata": {},
     "output_type": "execute_result"
    },
    {
     "data": {
      "image/png": "[encoded data removed]",
      "text/plain": [
       "<Figure size 216x144 with 1 Axes>"
      ]
     },
     "metadata": {
      "needs_background": "light"
     },
     "output_type": "display_data"
    }
   ],
   "source": [
    "i = 10 # pointing 11\n",
    "ind = np.all([all_vlsr[i]>all_vmin, all_vlsr[i]<all_vmax], axis=0)\n",
    "spec_x, spec_y = all_vlsr[i][ind], all_flux[i][ind]\n",
    "del_v = np.mean(spec_x[1:]-spec_x[:-1])\n",
    "    \n",
    "pp_10, pcov_10 = curve_fit(gaussian, spec_x, spec_y, p0=[0.26, -200, 15])\n",
    "perr_10 = np.sqrt(np.diag(pcov_10))\n",
    "yfit_10 = gaussian(spec_x, *pp_10)\n",
    "\n",
    "\n",
    "fwhm = 50\n",
    "ind_v = np.all([spec_x>all_vmin, spec_x<all_vmin+fwhm*2], axis=0)\n",
    "sig_nhi_10 = np.sum(spec_y[ind_v]*1.823e18*del_v)\n",
    "nhi_10 = np.sum(spec_y*1.823e18*del_v)\n",
    "\n",
    "print('pointing %s'%(i+1))\n",
    "print('v     : %.2f+/-%.2f km/s'%(pp_10[1], perr_10[1]))\n",
    "print('sig_v : %.2f+/-%.2f km/s'%(pp_10[2], perr_10[2]))\n",
    "print('logNHI: %.2f+/-%.2f'%(np.log10(nhi_10), sig_nhi_10/nhi_10/np.log(10)))\n",
    "      \n",
    "plt.figure(figsize=(3,2))\n",
    "plt.step(spec_x, spec_y)\n",
    "plt.step(spec_x, yfit_10)"
   ]
  },
  {
   "cell_type": "code",
   "execution_count": 15,
   "metadata": {},
   "outputs": [
    {
     "data": {
      "image/png": "[encoded data removed]",
      "text/plain": [
       "<Figure size 648x648 with 13 Axes>"
      ]
     },
     "metadata": {
      "needs_background": "light"
     },
     "output_type": "display_data"
    }
   ],
   "source": [
    "fig = plt.figure(figsize=(9, 9))\n",
    "# fig, axes = plt.subplots(2, 7, sharex='col', sharey='row', figsize=(10, 4.5))\n",
    "\n",
    "for i in range(len(all_ra)):\n",
    "    ax = fig.add_subplot(4, 4, i+1)\n",
    "    \n",
    "    ind = np.all([all_vlsr[i]<all_vmax, all_vlsr[i]>all_vmin], axis=0)\n",
    "    spec_x, spec_y = all_vlsr[i][ind], all_flux[i][ind]\n",
    "    \n",
    "    ax.step(spec_x, spec_y, color='k', lw=0.7)\n",
    "    ax.text(-310, 0.32, '(%s)'%(files[i].replace('.', '_').split('_')[-2]), fontsize=14)\n",
    "\n",
    "    # Gaussian fit:\n",
    "    fs = 11\n",
    "    if i == 3: # one Gaussian \n",
    "        ax.step(spec_x, yfit_3, color='r', lw=0.7)\n",
    "        ax.text(-200, 0.32, 'v = %.1f'%(pp_3[1]), fontsize=fs)\n",
    "        ax.text(-200, 0.27, r'$\\sigma$ = %.1f'%(pp_3[2]), fontsize=fs)\n",
    "        ax.text(-200, 0.22, 'logN=%.2f'%(np.log10(nhi_3)), fontsize=fs)\n",
    "        \n",
    "    if i == 4: # one Gaussian \n",
    "        ax.step(spec_x, yfit_4a, color='r', lw=0.7)\n",
    "        ax.text(-310, 0.24, 'v = %.1f'%(pp_4a[1]), fontsize=fs)\n",
    "        ax.text(-310, 0.19, r'$\\sigma$ = %.1f'%(pp_4a[2]), fontsize=fs)\n",
    "        \n",
    "        ax.step(spec_x, yfit_4b, color='r', lw=0.7)\n",
    "        ax.text(-190, 0.24, 'v = %.1f'%(pp_4b[1]), fontsize=fs)\n",
    "        ax.text(-190, 0.19, r'$\\sigma$ = %.1f'%(pp_4b[2]), fontsize=fs)\n",
    "        ax.text(-280, 0.14, 'logNtot=%.2f'%(np.log10(nhi_4)), fontsize=fs)\n",
    "        \n",
    "    if i == 5: # one Gaussian \n",
    "        ax.step(spec_x, yfit_5, color='r', lw=0.7)\n",
    "        ax.text(-200, 0.32, 'v = %.1f'%(pp_5[1]), fontsize=fs)\n",
    "        ax.text(-200, 0.27, r'$\\sigma$ = %.1f'%(pp_5[2]), fontsize=fs)\n",
    "        ax.text(-200, 0.22, 'logN=%.2f'%(np.log10(nhi_5)), fontsize=fs)\n",
    "        \n",
    "    if i == 7: # one Gaussian \n",
    "        ax.step(spec_x, yfit_7, color='r', lw=0.7)\n",
    "        ax.text(-200, 0.32, 'v = %.1f'%(pp_7[1]), fontsize=fs)\n",
    "        ax.text(-200, 0.27, r'$\\sigma$ = %.1f'%(pp_7[2]), fontsize=fs)\n",
    "        ax.text(-200, 0.22, 'logN=%.2f'%(np.log10(nhi_7)), fontsize=fs)\n",
    "        \n",
    "    if i == 9: # one Gaussian \n",
    "        ax.step(spec_x, yfit_9, color='r', lw=0.7)\n",
    "        ax.text(-200, 0.32, 'v = %.1f'%(pp_9[1]), fontsize=fs)\n",
    "        ax.text(-200, 0.27, r'$\\sigma$ = %.1f'%(pp_9[2]), fontsize=fs)\n",
    "        ax.text(-200, 0.22, 'logN=%.2f'%(np.log10(nhi_9)), fontsize=fs)\n",
    "        \n",
    "    if i == 10: # one Gaussian \n",
    "        ax.step(spec_x, yfit_10, color='r', lw=0.7)\n",
    "        ax.text(-200, 0.32, 'v = %.1f'%(pp_10[1]), fontsize=fs)\n",
    "        ax.text(-200, 0.27, r'$\\sigma$ = %.1f'%(pp_10[2]), fontsize=fs)\n",
    "        ax.text(-200, 0.22, 'logN=%.2f'%(np.log10(nhi_10)), fontsize=fs)\n",
    "        \n",
    "    # figure layout \n",
    "    ax.set_xlim(-320, -90)\n",
    "    ax.set_ylim(-0.05, 0.4)\n",
    "    ax.set_yticks([0, 0.1, 0.2, 0.3, 0.4])\n",
    "    ax.set_xticks([-300, -200, -100])\n",
    "    ax.minorticks_on()\n",
    "    if i in [0, 4, 8, 12]:\n",
    "        ax.set_yticklabels(['0', '0.1', '0.2', '0.3', '0.4'], fontsize=14)\n",
    "        ax.set_ylabel('Tb(K)', fontsize=14)\n",
    "    else:\n",
    "        ax.set_yticklabels([])\n",
    "    \n",
    "    if i > 8:\n",
    "        ax.set_xticklabels(['-300', '-200', '-100'], fontsize=14)\n",
    "        ax.set_xlabel(r'v$_{LSR}$ (km s$^{-1}$)', fontsize=14)\n",
    "    else:\n",
    "        ax.set_xticklabels([])\n",
    "        \n",
    "fig.tight_layout()\n",
    "fig.savefig('figs/GBT_spec.pdf')"
   ]
  },
  {
   "cell_type": "code",
   "execution_count": 17,
   "metadata": {},
   "outputs": [
    {
     "data": {
      "text/plain": [
       "(0.45, 1.0185714285714285, 0.63, 1.3614285714285714)"
      ]
     },
     "execution_count": 17,
     "metadata": {},
     "output_type": "execute_result"
    }
   ],
   "source": [
    "v_err = [0.42, 1.22, 3.86, 0.45, 0.22, 0.41, 0.55]\n",
    "sig_err = [0.60, 1.93, 4.7, 0.63, 0.31, 0.58, 0.78]\n",
    "np.median(v_err), np.mean(v_err), np.median(sig_err), np.mean(sig_err)"
   ]
  },
  {
   "cell_type": "markdown",
   "metadata": {},
   "source": [
    "GBT spectra for pointing toward PHL2525 and NHI upper limit (3sigma)"
   ]
  },
  {
   "cell_type": "code",
   "execution_count": 18,
   "metadata": {},
   "outputs": [
    {
     "name": "stdout",
     "output_type": "stream",
     "text": [
      "3.4539333525456326e+17 1.0361800057636897e+18 18.015435207840817\n",
      "3.7188838516933696e+17 1.1156651555080109e+18 18.047533869390453\n"
     ]
    }
   ],
   "source": [
    "# phl2525\n",
    "phl2525_tb = Table.read('Data/GBT/GBT_PHL2525_1.txt', format='ascii', data_start=4)\n",
    "phl2525_vlsr = phl2525_tb['col1']\n",
    "phl2525_flux = phl2525_tb['col2']\n",
    "\n",
    "ind1 = np.all([phl2525_vlsr>-150.2-41/2., phl2525_vlsr<-150.2+41/2.], axis=0)\n",
    "vstep1 = np.mean(phl2525_vlsr[1:]-phl2525_vlsr[:-1])\n",
    "nhi1 = (1.823e18 * phl2525_flux[ind1] * vstep1).sum()\n",
    "print(nhi1, nhi1*3, np.log10(nhi1*3))\n",
    "\n",
    "ind2 = np.all([phl2525_vlsr>-150.2-58/2., phl2525_vlsr<-150.2+58/2.], axis=0)\n",
    "vstep2 = np.mean(phl2525_vlsr[1:]-phl2525_vlsr[:-1])\n",
    "nhi2 = (1.823e18 * phl2525_flux[ind2] * vstep2).sum()\n",
    "print(nhi2, nhi2*3, np.log10(nhi2*3))"
   ]
  },
  {
   "cell_type": "markdown",
   "metadata": {},
   "source": [
    "GBT spectra for WLM "
   ]
  },
  {
   "cell_type": "code",
   "execution_count": 20,
   "metadata": {},
   "outputs": [
    {
     "data": {
      "text/plain": [
       "Text(0.5, 1.0, 'WLM/GBT')"
      ]
     },
     "execution_count": 20,
     "metadata": {},
     "output_type": "execute_result"
    },
    {
     "data": {
      "image/png": "[encoded data removed]",
      "text/plain": [
       "<Figure size 432x288 with 1 Axes>"
      ]
     },
     "metadata": {
      "needs_background": "light"
     },
     "output_type": "display_data"
    }
   ],
   "source": [
    "wlm_tb = Table.read('Data/GBT/GBT_WLM.txt', format='ascii', data_start=4)\n",
    "wlm_vlsr = wlm_tb['col1']\n",
    "wlm_flux = wlm_tb['col2']\n",
    "\n",
    "ind = wlm_vlsr < -50\n",
    "pp = curve_fit(gaussian, wlm_vlsr[ind], wlm_flux[ind], p0=[9, -130, 30])[0]\n",
    "yfit = gaussian(wlm_vlsr, *pp)\n",
    "\n",
    "plt.step(wlm_vlsr, wlm_flux)\n",
    "plt.step(wlm_vlsr, yfit, color='r', lw=0.7)\n",
    "plt.xlim(-300, 100)\n",
    "plt.ylim(-0.5, 10)\n",
    "plt.title('WLM/GBT')"
   ]
  },
  {
   "cell_type": "code",
   "execution_count": null,
   "metadata": {
    "collapsed": true
   },
   "outputs": [],
   "source": []
  }
 ],
 "metadata": {
  "kernelspec": {
   "display_name": "Python 3",
   "language": "python",
   "name": "python3"
  },
  "language_info": {
   "codemirror_mode": {
    "name": "ipython",
    "version": 3
   },
   "file_extension": ".py",
   "mimetype": "text/x-python",
   "name": "python",
   "nbconvert_exporter": "python",
   "pygments_lexer": "ipython3",
   "version": "3.6.8"
  }
 },
 "nbformat": 4,
 "nbformat_minor": 2
}
